{
 "cells": [
  {
   "cell_type": "code",
   "execution_count": 16,
   "id": "de2e6c45",
   "metadata": {},
   "outputs": [],
   "source": [
    "import numpy as np"
   ]
  },
  {
   "cell_type": "markdown",
   "id": "187eec21",
   "metadata": {},
   "source": [
    "array types and conversion btw types"
   ]
  },
  {
   "cell_type": "code",
   "execution_count": 2,
   "id": "7f2436d2",
   "metadata": {},
   "outputs": [],
   "source": [
    "integers = np.array([10,20,30,40,50]) #create a numpy array"
   ]
  },
  {
   "cell_type": "code",
   "execution_count": 3,
   "id": "ec93bb5c",
   "metadata": {},
   "outputs": [
    {
     "name": "stdout",
     "output_type": "stream",
     "text": [
      "[10 20 30 40 50]\n"
     ]
    }
   ],
   "source": [
    "print(integers)"
   ]
  },
  {
   "cell_type": "code",
   "execution_count": 4,
   "id": "ef85f4ef",
   "metadata": {},
   "outputs": [
    {
     "data": {
      "text/plain": [
       "10"
      ]
     },
     "execution_count": 4,
     "metadata": {},
     "output_type": "execute_result"
    }
   ],
   "source": [
    "integers[0]"
   ]
  },
  {
   "cell_type": "code",
   "execution_count": 5,
   "id": "bd076a6d",
   "metadata": {},
   "outputs": [
    {
     "data": {
      "text/plain": [
       "array([20, 20, 30, 40, 50])"
      ]
     },
     "execution_count": 5,
     "metadata": {},
     "output_type": "execute_result"
    }
   ],
   "source": [
    "integers[0] = 20\n",
    "integers"
   ]
  },
  {
   "cell_type": "code",
   "execution_count": 6,
   "id": "d6834b0e",
   "metadata": {},
   "outputs": [
    {
     "data": {
      "text/plain": [
       "array([21, 20, 30, 40, 50])"
      ]
     },
     "execution_count": 6,
     "metadata": {},
     "output_type": "execute_result"
    }
   ],
   "source": [
    "integers[0] = 21.5 #truncates the float value to a int64 value, because the dtype is int64\n",
    "integers"
   ]
  },
  {
   "cell_type": "code",
   "execution_count": 7,
   "id": "187a7ce7",
   "metadata": {},
   "outputs": [
    {
     "data": {
      "text/plain": [
       "dtype('int64')"
      ]
     },
     "execution_count": 7,
     "metadata": {},
     "output_type": "execute_result"
    }
   ],
   "source": [
    "integers.dtype "
   ]
  },
  {
   "cell_type": "code",
   "execution_count": 9,
   "id": "f0ba2dfd",
   "metadata": {},
   "outputs": [
    {
     "data": {
      "text/plain": [
       "array([21, 20, 30, 40, 50], dtype=int8)"
      ]
     },
     "execution_count": 9,
     "metadata": {},
     "output_type": "execute_result"
    }
   ],
   "source": [
    "smaller_integers = np.array(integers, dtype=np.int8) #dtype can be changed while creating the array\n",
    "smaller_integers"
   ]
  },
  {
   "cell_type": "code",
   "execution_count": 10,
   "id": "da295521",
   "metadata": {},
   "outputs": [
    {
     "data": {
      "text/plain": [
       "40"
      ]
     },
     "execution_count": 10,
     "metadata": {},
     "output_type": "execute_result"
    }
   ],
   "source": [
    "integers.nbytes #size in bytes of a int64 array"
   ]
  },
  {
   "cell_type": "code",
   "execution_count": 11,
   "id": "5eb84f4d",
   "metadata": {},
   "outputs": [
    {
     "data": {
      "text/plain": [
       "5"
      ]
     },
     "execution_count": 11,
     "metadata": {},
     "output_type": "execute_result"
    }
   ],
   "source": [
    "smaller_integers.nbytes #size in bytes of a int8 array"
   ]
  },
  {
   "cell_type": "code",
   "execution_count": 13,
   "id": "c18a29ee",
   "metadata": {},
   "outputs": [
    {
     "data": {
      "text/plain": [
       "array([ 127, -128, -127], dtype=int8)"
      ]
     },
     "execution_count": 13,
     "metadata": {},
     "output_type": "execute_result"
    }
   ],
   "source": [
    "overflow = np.array([127, 128, 129], dtype = np.int8) #numpy arrays can fix the overflow\n",
    "overflow"
   ]
  },
  {
   "cell_type": "code",
   "execution_count": 14,
   "id": "d41d70bf",
   "metadata": {},
   "outputs": [
    {
     "name": "stdout",
     "output_type": "stream",
     "text": [
      "[1.2 2.3 3.4 5.1 8.3]\n"
     ]
    }
   ],
   "source": [
    "floats = np.array([1.2,2.3,3.4,5.1,8.3]) \n",
    "print(floats)"
   ]
  },
  {
   "cell_type": "code",
   "execution_count": 15,
   "id": "be209ae2",
   "metadata": {},
   "outputs": [
    {
     "data": {
      "text/plain": [
       "dtype('float64')"
      ]
     },
     "execution_count": 15,
     "metadata": {},
     "output_type": "execute_result"
    }
   ],
   "source": [
    "floats.dtype"
   ]
  },
  {
   "cell_type": "markdown",
   "id": "c2201bac",
   "metadata": {},
   "source": [
    "multidimensional arrays"
   ]
  },
  {
   "cell_type": "code",
   "execution_count": 19,
   "id": "f588937c",
   "metadata": {},
   "outputs": [
    {
     "data": {
      "text/plain": [
       "array([[ 1,  2,  3,  4,  5],\n",
       "       [ 6,  7,  8,  9, 10]])"
      ]
     },
     "execution_count": 19,
     "metadata": {},
     "output_type": "execute_result"
    }
   ],
   "source": [
    "nums = np.array([[1,2,3,4,5], [6,7,8,9,10]])\n",
    "nums"
   ]
  },
  {
   "cell_type": "code",
   "execution_count": 20,
   "id": "e9fa0696",
   "metadata": {},
   "outputs": [
    {
     "data": {
      "text/plain": [
       "1"
      ]
     },
     "execution_count": 20,
     "metadata": {},
     "output_type": "execute_result"
    }
   ],
   "source": [
    "nums[0][0] #[row,column], [0,0] is the first elememt in the matrix "
   ]
  },
  {
   "cell_type": "code",
   "execution_count": 21,
   "id": "a2ef650a",
   "metadata": {},
   "outputs": [
    {
     "data": {
      "text/plain": [
       "10"
      ]
     },
     "execution_count": 21,
     "metadata": {},
     "output_type": "execute_result"
    }
   ],
   "source": [
    "nums[1][4] #the last element in the matrix"
   ]
  },
  {
   "cell_type": "code",
   "execution_count": 22,
   "id": "4c0a004a",
   "metadata": {},
   "outputs": [
    {
     "data": {
      "text/plain": [
       "2"
      ]
     },
     "execution_count": 22,
     "metadata": {},
     "output_type": "execute_result"
    }
   ],
   "source": [
    "nums.ndim #checks the dimension of the array"
   ]
  },
  {
   "cell_type": "code",
   "execution_count": 25,
   "id": "e39bfd94",
   "metadata": {},
   "outputs": [
    {
     "data": {
      "text/plain": [
       "array([[[ 1,  2,  3],\n",
       "        [ 4,  5,  6]],\n",
       "\n",
       "       [[ 7,  8,  9],\n",
       "        [10, 11, 12]]])"
      ]
     },
     "execution_count": 25,
     "metadata": {},
     "output_type": "execute_result"
    }
   ],
   "source": [
    "multi_arr = np.array([[[1,2,3], [4,5,6]],[[7,8,9],[10,11,12]]]) #a 3D matrix\n",
    "multi_arr"
   ]
  },
  {
   "cell_type": "code",
   "execution_count": 26,
   "id": "dc4f3567",
   "metadata": {},
   "outputs": [
    {
     "data": {
      "text/plain": [
       "9"
      ]
     },
     "execution_count": 26,
     "metadata": {},
     "output_type": "execute_result"
    }
   ],
   "source": [
    "multi_arr[1][0][2] # 2nd row in the 3d matrix, 1st row in the 2D matrix, last element in the 1d matrix"
   ]
  },
  {
   "cell_type": "markdown",
   "id": "80538ff0",
   "metadata": {},
   "source": [
    "creating arrays from lists and other python structures"
   ]
  },
  {
   "cell_type": "code",
   "execution_count": 27,
   "id": "383eb849",
   "metadata": {},
   "outputs": [
    {
     "data": {
      "text/plain": [
       "[1, 2, 3, 4, 5, 6, 7, 8, 9, 10]"
      ]
     },
     "execution_count": 27,
     "metadata": {},
     "output_type": "execute_result"
    }
   ],
   "source": [
    "first_list = [1,2,3,4,5,6,7,8,9,10]\n",
    "first_list"
   ]
  },
  {
   "cell_type": "code",
   "execution_count": 29,
   "id": "c3e348d3",
   "metadata": {},
   "outputs": [
    {
     "data": {
      "text/plain": [
       "array([ 1,  2,  3,  4,  5,  6,  7,  8,  9, 10])"
      ]
     },
     "execution_count": 29,
     "metadata": {},
     "output_type": "execute_result"
    }
   ],
   "source": [
    "first_array= np.array(first_list) #converted python list to numpy array\n",
    "first_array"
   ]
  },
  {
   "cell_type": "code",
   "execution_count": 30,
   "id": "a6b97180",
   "metadata": {},
   "outputs": [],
   "source": [
    "second_list = [1,2,3,-1.23,50,128000.56,4.56]"
   ]
  },
  {
   "cell_type": "code",
   "execution_count": 31,
   "id": "c484bb17",
   "metadata": {},
   "outputs": [],
   "source": [
    "second_array = np.array(second_list)"
   ]
  },
  {
   "cell_type": "code",
   "execution_count": 32,
   "id": "a439982d",
   "metadata": {},
   "outputs": [
    {
     "data": {
      "text/plain": [
       "array([ 1.0000000e+00,  2.0000000e+00,  3.0000000e+00, -1.2300000e+00,\n",
       "        5.0000000e+01,  1.2800056e+05,  4.5600000e+00])"
      ]
     },
     "execution_count": 32,
     "metadata": {},
     "output_type": "execute_result"
    }
   ],
   "source": [
    "second_array #numpy changes the type of each element to float64"
   ]
  },
  {
   "cell_type": "code",
   "execution_count": 33,
   "id": "99058df5",
   "metadata": {},
   "outputs": [
    {
     "data": {
      "text/plain": [
       "dtype('float64')"
      ]
     },
     "execution_count": 33,
     "metadata": {},
     "output_type": "execute_result"
    }
   ],
   "source": [
    "second_array.dtype"
   ]
  },
  {
   "cell_type": "code",
   "execution_count": 34,
   "id": "e94ea0d7",
   "metadata": {},
   "outputs": [],
   "source": [
    "third_list = [\"ann\", 11111,\"peter\", 22222,\"susan\", 33333, \"john\"]"
   ]
  },
  {
   "cell_type": "code",
   "execution_count": 35,
   "id": "424362ca",
   "metadata": {},
   "outputs": [],
   "source": [
    "third_array = np.array(third_list)"
   ]
  },
  {
   "cell_type": "code",
   "execution_count": 36,
   "id": "5b324a61",
   "metadata": {},
   "outputs": [
    {
     "data": {
      "text/plain": [
       "array(['ann', '11111', 'peter', '22222', 'susan', '33333', 'john'],\n",
       "      dtype='<U21')"
      ]
     },
     "execution_count": 36,
     "metadata": {},
     "output_type": "execute_result"
    }
   ],
   "source": [
    "third_array #it represents a combination of numbers and letters as <U21"
   ]
  },
  {
   "cell_type": "code",
   "execution_count": 38,
   "id": "8b102713",
   "metadata": {},
   "outputs": [],
   "source": [
    "first_tuple = (1,2,3,4,5)"
   ]
  },
  {
   "cell_type": "code",
   "execution_count": 39,
   "id": "a3d32e9a",
   "metadata": {},
   "outputs": [],
   "source": [
    "array_from_tuple = np.array(first_tuple)"
   ]
  },
  {
   "cell_type": "code",
   "execution_count": 40,
   "id": "aab2b53f",
   "metadata": {},
   "outputs": [
    {
     "data": {
      "text/plain": [
       "array([1, 2, 3, 4, 5])"
      ]
     },
     "execution_count": 40,
     "metadata": {},
     "output_type": "execute_result"
    }
   ],
   "source": [
    "array_from_tuple #a python tuple is converted to a regular numpy array"
   ]
  },
  {
   "cell_type": "code",
   "execution_count": 42,
   "id": "b4c6b9d3",
   "metadata": {},
   "outputs": [
    {
     "data": {
      "text/plain": [
       "dtype('int64')"
      ]
     },
     "execution_count": 42,
     "metadata": {},
     "output_type": "execute_result"
    }
   ],
   "source": [
    "array_from_tuple.dtype"
   ]
  },
  {
   "cell_type": "code",
   "execution_count": 43,
   "id": "6456cb1d",
   "metadata": {},
   "outputs": [],
   "source": [
    "multi_dim_list = [[[0,1,2], [3,4,5]], [[6,7,8], [9,10,11]]]"
   ]
  },
  {
   "cell_type": "code",
   "execution_count": 44,
   "id": "18117417",
   "metadata": {},
   "outputs": [],
   "source": [
    "array_from_multi_dim_list = np.array(multi_dim_list)"
   ]
  },
  {
   "cell_type": "code",
   "execution_count": 45,
   "id": "a3788a54",
   "metadata": {},
   "outputs": [
    {
     "data": {
      "text/plain": [
       "array([[[ 0,  1,  2],\n",
       "        [ 3,  4,  5]],\n",
       "\n",
       "       [[ 6,  7,  8],\n",
       "        [ 9, 10, 11]]])"
      ]
     },
     "execution_count": 45,
     "metadata": {},
     "output_type": "execute_result"
    }
   ],
   "source": [
    "array_from_multi_dim_list # a 2D matrix can be converted into a NumPy array, wihtout any changes."
   ]
  },
  {
   "cell_type": "markdown",
   "id": "603651fd",
   "metadata": {},
   "source": [
    "Intrinsic NumPy array creation"
   ]
  },
  {
   "cell_type": "code",
   "execution_count": 47,
   "id": "11fde5dc",
   "metadata": {},
   "outputs": [
    {
     "data": {
      "text/plain": [
       "array([0, 1, 2, 3, 4, 5, 6, 7, 8, 9])"
      ]
     },
     "execution_count": 47,
     "metadata": {},
     "output_type": "execute_result"
    }
   ],
   "source": [
    "integers_array = np.arange(10) #creates an array from 1 to 9\n",
    "integers_array"
   ]
  },
  {
   "cell_type": "code",
   "execution_count": 48,
   "id": "d1a56bd1",
   "metadata": {},
   "outputs": [
    {
     "data": {
      "text/plain": [
       "array([100, 101, 102, 103, 104, 105, 106, 107, 108, 109, 110, 111, 112,\n",
       "       113, 114, 115, 116, 117, 118, 119, 120, 121, 122, 123, 124, 125,\n",
       "       126, 127, 128, 129])"
      ]
     },
     "execution_count": 48,
     "metadata": {},
     "output_type": "execute_result"
    }
   ],
   "source": [
    "integers_second_array = np.arange(100, 130) #creates an array from 100 to 129\n",
    "integers_second_array"
   ]
  },
  {
   "cell_type": "code",
   "execution_count": 49,
   "id": "a0c1865a",
   "metadata": {},
   "outputs": [
    {
     "data": {
      "text/plain": [
       "array([100, 102, 104, 106, 108, 110, 112, 114, 116, 118, 120, 122, 124,\n",
       "       126, 128, 130, 132, 134, 136, 138, 140, 142, 144, 146, 148, 150])"
      ]
     },
     "execution_count": 49,
     "metadata": {},
     "output_type": "execute_result"
    }
   ],
   "source": [
    "integers_third_array = np.arange(100, 151,2) # from 100 to 150 with an interval of 2\n",
    "integers_third_array"
   ]
  },
  {
   "cell_type": "code",
   "execution_count": 50,
   "id": "bae6f0d3",
   "metadata": {},
   "outputs": [
    {
     "data": {
      "text/plain": [
       "array([10.        , 10.20408163, 10.40816327, 10.6122449 , 10.81632653,\n",
       "       11.02040816, 11.2244898 , 11.42857143, 11.63265306, 11.83673469,\n",
       "       12.04081633, 12.24489796, 12.44897959, 12.65306122, 12.85714286,\n",
       "       13.06122449, 13.26530612, 13.46938776, 13.67346939, 13.87755102,\n",
       "       14.08163265, 14.28571429, 14.48979592, 14.69387755, 14.89795918,\n",
       "       15.10204082, 15.30612245, 15.51020408, 15.71428571, 15.91836735,\n",
       "       16.12244898, 16.32653061, 16.53061224, 16.73469388, 16.93877551,\n",
       "       17.14285714, 17.34693878, 17.55102041, 17.75510204, 17.95918367,\n",
       "       18.16326531, 18.36734694, 18.57142857, 18.7755102 , 18.97959184,\n",
       "       19.18367347, 19.3877551 , 19.59183673, 19.79591837, 20.        ])"
      ]
     },
     "execution_count": 50,
     "metadata": {},
     "output_type": "execute_result"
    }
   ],
   "source": [
    "first_floats_arr = np.linspace(10,20) #array of float values from 10.0 to 20.0(included)\n",
    "first_floats_arr"
   ]
  },
  {
   "cell_type": "code",
   "execution_count": 51,
   "id": "90379260",
   "metadata": {},
   "outputs": [
    {
     "data": {
      "text/plain": [
       "array([10. , 12.5, 15. , 17.5, 20. ])"
      ]
     },
     "execution_count": 51,
     "metadata": {},
     "output_type": "execute_result"
    }
   ],
   "source": [
    "second_floats_arr = np.linspace(10, 20, 5) #array of float values from 10.0 to 20.0(included) with 5 elements equally spaced\n",
    "second_floats_arr"
   ]
  },
  {
   "cell_type": "code",
   "execution_count": 52,
   "id": "48197ab6",
   "metadata": {},
   "outputs": [
    {
     "data": {
      "text/plain": [
       "array([0.87094308, 0.5447745 , 0.85708372, 0.00312175, 0.50023042,\n",
       "       0.76326606, 0.91891815, 0.13843596, 0.10711673, 0.84333568])"
      ]
     },
     "execution_count": 52,
     "metadata": {},
     "output_type": "execute_result"
    }
   ],
   "source": [
    "first_rand_arr = np.random.rand(10) #an array of 10 random elements btw 0 and 1\n",
    "first_rand_arr"
   ]
  },
  {
   "cell_type": "code",
   "execution_count": 53,
   "id": "05e0dbc9",
   "metadata": {},
   "outputs": [
    {
     "data": {
      "text/plain": [
       "array([[0.82638329, 0.22096623, 0.61739552]])"
      ]
     },
     "execution_count": 53,
     "metadata": {},
     "output_type": "execute_result"
    }
   ],
   "source": [
    "second_rand_arr = np.random.rand(1,3) # an array of random elements of 1 row and 3 columns\n",
    "second_rand_arr"
   ]
  },
  {
   "cell_type": "code",
   "execution_count": 55,
   "id": "e1235744",
   "metadata": {},
   "outputs": [
    {
     "data": {
      "text/plain": [
       "array([26, 90, 43, 96, 39, 55,  0, 56, 34, 77,  4, 83, 51, 37, 28, 94, 69,\n",
       "       10, 24, 98])"
      ]
     },
     "execution_count": 55,
     "metadata": {},
     "output_type": "execute_result"
    }
   ],
   "source": [
    "third_rand_arr = np.random.randint(0, 100, 20) # a random array from 0 to 100 containing 20 elemnents.\n",
    "third_rand_arr"
   ]
  },
  {
   "cell_type": "markdown",
   "id": "6af90b83",
   "metadata": {},
   "source": [
    "Creating arrays filled with constant values"
   ]
  },
  {
   "cell_type": "code",
   "execution_count": 58,
   "id": "c09135bd",
   "metadata": {},
   "outputs": [
    {
     "data": {
      "text/plain": [
       "array([0., 0., 0., 0., 0.])"
      ]
     },
     "execution_count": 58,
     "metadata": {},
     "output_type": "execute_result"
    }
   ],
   "source": [
    "first_z_array = np.zeros(5)\n",
    "first_z_array"
   ]
  },
  {
   "cell_type": "code",
   "execution_count": null,
   "id": "0b96dbf7",
   "metadata": {},
   "outputs": [],
   "source": []
  }
 ],
 "metadata": {
  "kernelspec": {
   "display_name": "Python 3 (ipykernel)",
   "language": "python",
   "name": "python3"
  },
  "language_info": {
   "codemirror_mode": {
    "name": "ipython",
    "version": 3
   },
   "file_extension": ".py",
   "mimetype": "text/x-python",
   "name": "python",
   "nbconvert_exporter": "python",
   "pygments_lexer": "ipython3",
   "version": "3.9.12"
  }
 },
 "nbformat": 4,
 "nbformat_minor": 5
}

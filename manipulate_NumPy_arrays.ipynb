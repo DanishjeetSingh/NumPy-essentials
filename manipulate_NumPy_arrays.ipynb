{
 "cells": [
  {
   "cell_type": "code",
   "execution_count": 2,
   "id": "89e4c221",
   "metadata": {},
   "outputs": [],
   "source": [
    "import numpy as np"
   ]
  },
  {
   "cell_type": "markdown",
   "id": "5b779434",
   "metadata": {},
   "source": [
    "adding, removing and sorting elements"
   ]
  },
  {
   "cell_type": "code",
   "execution_count": 4,
   "id": "10f0016d",
   "metadata": {},
   "outputs": [
    {
     "data": {
      "text/plain": [
       "array([1, 2, 3, 5])"
      ]
     },
     "execution_count": 4,
     "metadata": {},
     "output_type": "execute_result"
    }
   ],
   "source": [
    "first_arr = np.array([1,2,3,5])\n",
    "first_arr"
   ]
  },
  {
   "cell_type": "code",
   "execution_count": 5,
   "id": "980afc56",
   "metadata": {},
   "outputs": [
    {
     "data": {
      "text/plain": [
       "array([1, 2, 3, 4, 5])"
      ]
     },
     "execution_count": 5,
     "metadata": {},
     "output_type": "execute_result"
    }
   ],
   "source": [
    "new_frist_arr = np.insert(first_arr,3,4) # inserted 4 at index 3\n",
    "new_frist_arr"
   ]
  },
  {
   "cell_type": "code",
   "execution_count": 6,
   "id": "857a5c10",
   "metadata": {},
   "outputs": [
    {
     "data": {
      "text/plain": [
       "array([1, 2, 3, 4])"
      ]
     },
     "execution_count": 6,
     "metadata": {},
     "output_type": "execute_result"
    }
   ],
   "source": [
    "second_arr = np.array([1,2,3,4])\n",
    "second_arr"
   ]
  },
  {
   "cell_type": "code",
   "execution_count": 7,
   "id": "a70ab68c",
   "metadata": {},
   "outputs": [
    {
     "data": {
      "text/plain": [
       "array([1, 2, 3, 4, 5])"
      ]
     },
     "execution_count": 7,
     "metadata": {},
     "output_type": "execute_result"
    }
   ],
   "source": [
    "new_second_arr = np.append(second_arr, 5) # added 5 at the end\n",
    "new_second_arr"
   ]
  },
  {
   "cell_type": "code",
   "execution_count": 8,
   "id": "6faf8e03",
   "metadata": {},
   "outputs": [
    {
     "data": {
      "text/plain": [
       "array([1, 2, 3, 4, 5])"
      ]
     },
     "execution_count": 8,
     "metadata": {},
     "output_type": "execute_result"
    }
   ],
   "source": [
    "third_arr = np.array([1,2,3,4,5])\n",
    "third_arr"
   ]
  },
  {
   "cell_type": "code",
   "execution_count": 9,
   "id": "2ee2d571",
   "metadata": {},
   "outputs": [
    {
     "data": {
      "text/plain": [
       "array([1, 2, 3, 4])"
      ]
     },
     "execution_count": 9,
     "metadata": {},
     "output_type": "execute_result"
    }
   ],
   "source": [
    "del_arr = np.delete(third_arr, 4) #deleted element at index 4\n",
    "del_arr"
   ]
  },
  {
   "cell_type": "code",
   "execution_count": 10,
   "id": "055a9875",
   "metadata": {},
   "outputs": [
    {
     "data": {
      "text/plain": [
       "array([18, 16,  7, 15,  0,  5,  7,  9, 14,  8,  9, 14, 15, 14,  0, 19,  2,\n",
       "       15, 17,  7])"
      ]
     },
     "execution_count": 10,
     "metadata": {},
     "output_type": "execute_result"
    }
   ],
   "source": [
    "integers_arr = np.random.randint(0,20,20)\n",
    "integers_arr"
   ]
  },
  {
   "cell_type": "code",
   "execution_count": 11,
   "id": "5e0318a2",
   "metadata": {},
   "outputs": [
    {
     "name": "stdout",
     "output_type": "stream",
     "text": [
      "[ 0  0  2  5  7  7  7  8  9  9 14 14 14 15 15 15 16 17 18 19]\n"
     ]
    }
   ],
   "source": [
    "print(np.sort(integers_arr)) # sorted the array"
   ]
  },
  {
   "cell_type": "code",
   "execution_count": 13,
   "id": "53e20ca6",
   "metadata": {},
   "outputs": [
    {
     "data": {
      "text/plain": [
       "array([[3, 2, 5, 7, 4],\n",
       "       [5, 0, 8, 3, 1]])"
      ]
     },
     "execution_count": 13,
     "metadata": {},
     "output_type": "execute_result"
    }
   ],
   "source": [
    "integers_2dim_arr = np.array([[3,2,5,7,4],[5,0,8,3,1]]) #sorted the 2d array\n",
    "integers_2dim_arr"
   ]
  },
  {
   "cell_type": "code",
   "execution_count": 14,
   "id": "9701f259",
   "metadata": {},
   "outputs": [
    {
     "name": "stdout",
     "output_type": "stream",
     "text": [
      "[[2 3 4 5 7]\n",
      " [0 1 3 5 8]]\n"
     ]
    }
   ],
   "source": [
    "print(np.sort(integers_2dim_arr))"
   ]
  },
  {
   "cell_type": "code",
   "execution_count": 15,
   "id": "1ea02f3d",
   "metadata": {},
   "outputs": [
    {
     "data": {
      "text/plain": [
       "array(['violet', 'orange', 'yellow', 'white', 'black'], dtype='<U6')"
      ]
     },
     "execution_count": 15,
     "metadata": {},
     "output_type": "execute_result"
    }
   ],
   "source": [
    "colors = np.array(['violet', 'orange', 'yellow', 'white', 'black'])\n",
    "colors"
   ]
  },
  {
   "cell_type": "code",
   "execution_count": 16,
   "id": "7419507a",
   "metadata": {},
   "outputs": [
    {
     "name": "stdout",
     "output_type": "stream",
     "text": [
      "['black' 'orange' 'violet' 'white' 'yellow']\n"
     ]
    }
   ],
   "source": [
    "print(np.sort(colors)) #sorted an array of strings"
   ]
  },
  {
   "cell_type": "code",
   "execution_count": null,
   "id": "4d366c66",
   "metadata": {},
   "outputs": [],
   "source": []
  }
 ],
 "metadata": {
  "kernelspec": {
   "display_name": "Python 3 (ipykernel)",
   "language": "python",
   "name": "python3"
  },
  "language_info": {
   "codemirror_mode": {
    "name": "ipython",
    "version": 3
   },
   "file_extension": ".py",
   "mimetype": "text/x-python",
   "name": "python",
   "nbconvert_exporter": "python",
   "pygments_lexer": "ipython3",
   "version": "3.9.12"
  }
 },
 "nbformat": 4,
 "nbformat_minor": 5
}

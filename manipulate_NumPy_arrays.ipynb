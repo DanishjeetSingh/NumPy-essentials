{
 "cells": [
  {
   "cell_type": "code",
   "execution_count": 2,
   "id": "9aededb5",
   "metadata": {},
   "outputs": [],
   "source": [
    "import numpy as np"
   ]
  },
  {
   "cell_type": "markdown",
   "id": "7fca0716",
   "metadata": {},
   "source": [
    "adding, removing and sorting elements"
   ]
  },
  {
   "cell_type": "code",
   "execution_count": 4,
   "id": "32863225",
   "metadata": {},
   "outputs": [
    {
     "data": {
      "text/plain": [
       "array([1, 2, 3, 5])"
      ]
     },
     "execution_count": 4,
     "metadata": {},
     "output_type": "execute_result"
    }
   ],
   "source": [
    "first_arr = np.array([1,2,3,5])\n",
    "first_arr"
   ]
  },
  {
   "cell_type": "code",
   "execution_count": 5,
   "id": "6b92b65a",
   "metadata": {},
   "outputs": [
    {
     "data": {
      "text/plain": [
       "array([1, 2, 3, 4, 5])"
      ]
     },
     "execution_count": 5,
     "metadata": {},
     "output_type": "execute_result"
    }
   ],
   "source": [
    "new_frist_arr = np.insert(first_arr,3,4) # inserted 4 at index 3\n",
    "new_frist_arr"
   ]
  },
  {
   "cell_type": "code",
   "execution_count": 6,
   "id": "c71bb2c0",
   "metadata": {},
   "outputs": [
    {
     "data": {
      "text/plain": [
       "array([1, 2, 3, 4])"
      ]
     },
     "execution_count": 6,
     "metadata": {},
     "output_type": "execute_result"
    }
   ],
   "source": [
    "second_arr = np.array([1,2,3,4])\n",
    "second_arr"
   ]
  },
  {
   "cell_type": "code",
   "execution_count": 7,
   "id": "29ad9812",
   "metadata": {},
   "outputs": [
    {
     "data": {
      "text/plain": [
       "array([1, 2, 3, 4, 5])"
      ]
     },
     "execution_count": 7,
     "metadata": {},
     "output_type": "execute_result"
    }
   ],
   "source": [
    "new_second_arr = np.append(second_arr, 5) # added 5 at the end\n",
    "new_second_arr"
   ]
  },
  {
   "cell_type": "code",
   "execution_count": 8,
   "id": "5405b8fe",
   "metadata": {},
   "outputs": [
    {
     "data": {
      "text/plain": [
       "array([1, 2, 3, 4, 5])"
      ]
     },
     "execution_count": 8,
     "metadata": {},
     "output_type": "execute_result"
    }
   ],
   "source": [
    "third_arr = np.array([1,2,3,4,5])\n",
    "third_arr"
   ]
  },
  {
   "cell_type": "code",
   "execution_count": 9,
   "id": "aa64ef28",
   "metadata": {},
   "outputs": [
    {
     "data": {
      "text/plain": [
       "array([1, 2, 3, 4])"
      ]
     },
     "execution_count": 9,
     "metadata": {},
     "output_type": "execute_result"
    }
   ],
   "source": [
    "del_arr = np.delete(third_arr, 4) #deleted element at index 4\n",
    "del_arr"
   ]
  },
  {
   "cell_type": "code",
   "execution_count": 10,
   "id": "3da54bc4",
   "metadata": {},
   "outputs": [
    {
     "data": {
      "text/plain": [
       "array([18, 16,  7, 15,  0,  5,  7,  9, 14,  8,  9, 14, 15, 14,  0, 19,  2,\n",
       "       15, 17,  7])"
      ]
     },
     "execution_count": 10,
     "metadata": {},
     "output_type": "execute_result"
    }
   ],
   "source": [
    "integers_arr = np.random.randint(0,20,20)\n",
    "integers_arr"
   ]
  },
  {
   "cell_type": "code",
   "execution_count": 11,
   "id": "f9910ca5",
   "metadata": {},
   "outputs": [
    {
     "name": "stdout",
     "output_type": "stream",
     "text": [
      "[ 0  0  2  5  7  7  7  8  9  9 14 14 14 15 15 15 16 17 18 19]\n"
     ]
    }
   ],
   "source": [
    "print(np.sort(integers_arr)) # sorted the array"
   ]
  },
  {
   "cell_type": "code",
   "execution_count": 13,
   "id": "9e8f2c83",
   "metadata": {},
   "outputs": [
    {
     "data": {
      "text/plain": [
       "array([[3, 2, 5, 7, 4],\n",
       "       [5, 0, 8, 3, 1]])"
      ]
     },
     "execution_count": 13,
     "metadata": {},
     "output_type": "execute_result"
    }
   ],
   "source": [
    "integers_2dim_arr = np.array([[3,2,5,7,4],[5,0,8,3,1]]) #sorted the 2d array\n",
    "integers_2dim_arr"
   ]
  },
  {
   "cell_type": "code",
   "execution_count": 14,
   "id": "f305df72",
   "metadata": {},
   "outputs": [
    {
     "name": "stdout",
     "output_type": "stream",
     "text": [
      "[[2 3 4 5 7]\n",
      " [0 1 3 5 8]]\n"
     ]
    }
   ],
   "source": [
    "print(np.sort(integers_2dim_arr))"
   ]
  },
  {
   "cell_type": "code",
   "execution_count": 15,
   "id": "4c410d6f",
   "metadata": {},
   "outputs": [
    {
     "data": {
      "text/plain": [
       "array(['violet', 'orange', 'yellow', 'white', 'black'], dtype='<U6')"
      ]
     },
     "execution_count": 15,
     "metadata": {},
     "output_type": "execute_result"
    }
   ],
   "source": [
    "colors = np.array(['violet', 'orange', 'yellow', 'white', 'black'])\n",
    "colors"
   ]
  },
  {
   "cell_type": "code",
   "execution_count": 16,
   "id": "7164f404",
   "metadata": {},
   "outputs": [
    {
     "name": "stdout",
     "output_type": "stream",
     "text": [
      "['black' 'orange' 'violet' 'white' 'yellow']\n"
     ]
    }
   ],
   "source": [
    "print(np.sort(colors)) #sorted an array of strings"
   ]
  },
  {
   "cell_type": "markdown",
   "id": "9f7269af",
   "metadata": {},
   "source": [
    "copies and views"
   ]
  },
  {
   "cell_type": "code",
   "execution_count": 18,
   "id": "5246499a",
   "metadata": {},
   "outputs": [
    {
     "data": {
      "text/plain": [
       "array([1111, 2222, 3333, 4444, 5555, 6666, 7777, 8888, 9999])"
      ]
     },
     "execution_count": 18,
     "metadata": {},
     "output_type": "execute_result"
    }
   ],
   "source": [
    "students_ids_number = np.array([1111,2222,3333,4444,5555,6666,7777,8888,9999])\n",
    "students_ids_number"
   ]
  },
  {
   "cell_type": "code",
   "execution_count": 20,
   "id": "23f90371",
   "metadata": {},
   "outputs": [
    {
     "name": "stdout",
     "output_type": "stream",
     "text": [
      "id of student_ids_number 140354579850128\n",
      "id of student_ids_number_reg 140354579850128\n"
     ]
    }
   ],
   "source": [
    "students_ids_number_reg = students_ids_number #assignment operator generates another reference\n",
    "print(\"id of student_ids_number\",id(students_ids_number))\n",
    "print(\"id of student_ids_number_reg\",id(students_ids_number_reg))"
   ]
  },
  {
   "cell_type": "code",
   "execution_count": 21,
   "id": "fe15af59",
   "metadata": {},
   "outputs": [
    {
     "name": "stdout",
     "output_type": "stream",
     "text": [
      "[1111 6969 3333 4444 5555 6666 7777 8888 9999]\n",
      "[1111 6969 3333 4444 5555 6666 7777 8888 9999]\n"
     ]
    }
   ],
   "source": [
    "students_ids_number_reg[1] = 6969\n",
    "print(students_ids_number_reg)\n",
    "print(students_ids_number)"
   ]
  },
  {
   "cell_type": "code",
   "execution_count": 22,
   "id": "b9f721ea",
   "metadata": {},
   "outputs": [
    {
     "name": "stdout",
     "output_type": "stream",
     "text": [
      "[1111 6969 3333 4444 5555 6666 7777 8888 9999]\n"
     ]
    }
   ],
   "source": [
    "students_ids_number_cp = students_ids_number.copy() # array is copied to another array\n",
    "print(students_ids_number_cp)\n"
   ]
  },
  {
   "cell_type": "code",
   "execution_count": 23,
   "id": "8dc9ab85",
   "metadata": {},
   "outputs": [
    {
     "name": "stdout",
     "output_type": "stream",
     "text": [
      "[ True  True  True  True  True  True  True  True  True]\n"
     ]
    }
   ],
   "source": [
    "print(students_ids_number_cp == students_ids_number)"
   ]
  },
  {
   "cell_type": "code",
   "execution_count": 25,
   "id": "f559bf5c",
   "metadata": {},
   "outputs": [
    {
     "name": "stdout",
     "output_type": "stream",
     "text": [
      "id of student_ids_number_cp 140354574228048\n",
      "id of student_ids_number 140354579850128\n"
     ]
    }
   ],
   "source": [
    "print(\"id of student_ids_number_cp\",id(students_ids_number_cp)) # different id numbers \n",
    "print(\"id of student_ids_number\",id(students_ids_number))"
   ]
  },
  {
   "cell_type": "code",
   "execution_count": 26,
   "id": "e4ab49e1",
   "metadata": {},
   "outputs": [
    {
     "name": "stdout",
     "output_type": "stream",
     "text": [
      "original:  [1000 6969 3333 4444 5555 6666 7777 8888 9999]\n",
      "copy:  [1111 6969 3333 4444 5555 6666 7777 8888 9999]\n"
     ]
    }
   ],
   "source": [
    "students_ids_number[0] = 1000 # copy, copies the array into another\n",
    "print('original: ', students_ids_number)\n",
    "print('copy: ',students_ids_number_cp)"
   ]
  },
  {
   "cell_type": "code",
   "execution_count": 27,
   "id": "7461fdad",
   "metadata": {},
   "outputs": [],
   "source": [
    "students_ids_number_v = students_ids_number.view()"
   ]
  },
  {
   "cell_type": "code",
   "execution_count": 28,
   "id": "7b1c0306",
   "metadata": {},
   "outputs": [
    {
     "name": "stdout",
     "output_type": "stream",
     "text": [
      "original:  [2000 6969 3333 4444 5555 6666 7777 8888 9999]\n",
      "copy:  [2000 6969 3333 4444 5555 6666 7777 8888 9999]\n"
     ]
    }
   ],
   "source": [
    "students_ids_number_v[0] = 2000 # view generates a reference\n",
    "print('original: ', students_ids_number)\n",
    "print('copy: ',students_ids_number_v)"
   ]
  },
  {
   "cell_type": "code",
   "execution_count": 29,
   "id": "5eb0f8cc",
   "metadata": {},
   "outputs": [
    {
     "name": "stdout",
     "output_type": "stream",
     "text": [
      "None\n"
     ]
    }
   ],
   "source": [
    "print(students_ids_number_cp.base) #None is ge"
   ]
  },
  {
   "cell_type": "code",
   "execution_count": 30,
   "id": "85e215f3",
   "metadata": {},
   "outputs": [
    {
     "name": "stdout",
     "output_type": "stream",
     "text": [
      "[2000 6969 3333 4444 5555 6666 7777 8888 9999]\n"
     ]
    }
   ],
   "source": [
    "print(students_ids_number_v.base)"
   ]
  },
  {
   "cell_type": "code",
   "execution_count": null,
   "id": "5f93cf57",
   "metadata": {},
   "outputs": [],
   "source": []
  }
 ],
 "metadata": {
  "kernelspec": {
   "display_name": "Python 3 (ipykernel)",
   "language": "python",
   "name": "python3"
  },
  "language_info": {
   "codemirror_mode": {
    "name": "ipython",
    "version": 3
   },
   "file_extension": ".py",
   "mimetype": "text/x-python",
   "name": "python",
   "nbconvert_exporter": "python",
   "pygments_lexer": "ipython3",
   "version": "3.9.12"
  }
 },
 "nbformat": 4,
 "nbformat_minor": 5
}

{
 "cells": [
  {
   "cell_type": "code",
   "execution_count": 2,
   "id": "292c12c8",
   "metadata": {},
   "outputs": [],
   "source": [
    "import numpy as np"
   ]
  },
  {
   "cell_type": "markdown",
   "id": "57303cb8",
   "metadata": {},
   "source": [
    "adding, removing and sorting elements"
   ]
  },
  {
   "cell_type": "code",
   "execution_count": 4,
   "id": "48179e27",
   "metadata": {},
   "outputs": [
    {
     "data": {
      "text/plain": [
       "array([1, 2, 3, 5])"
      ]
     },
     "execution_count": 4,
     "metadata": {},
     "output_type": "execute_result"
    }
   ],
   "source": [
    "first_arr = np.array([1,2,3,5])\n",
    "first_arr"
   ]
  },
  {
   "cell_type": "code",
   "execution_count": 5,
   "id": "399b1841",
   "metadata": {},
   "outputs": [
    {
     "data": {
      "text/plain": [
       "array([1, 2, 3, 4, 5])"
      ]
     },
     "execution_count": 5,
     "metadata": {},
     "output_type": "execute_result"
    }
   ],
   "source": [
    "new_frist_arr = np.insert(first_arr,3,4) # inserted 4 at index 3\n",
    "new_frist_arr"
   ]
  },
  {
   "cell_type": "code",
   "execution_count": 6,
   "id": "d4a2bc39",
   "metadata": {},
   "outputs": [
    {
     "data": {
      "text/plain": [
       "array([1, 2, 3, 4])"
      ]
     },
     "execution_count": 6,
     "metadata": {},
     "output_type": "execute_result"
    }
   ],
   "source": [
    "second_arr = np.array([1,2,3,4])\n",
    "second_arr"
   ]
  },
  {
   "cell_type": "code",
   "execution_count": 7,
   "id": "2612d5b1",
   "metadata": {},
   "outputs": [
    {
     "data": {
      "text/plain": [
       "array([1, 2, 3, 4, 5])"
      ]
     },
     "execution_count": 7,
     "metadata": {},
     "output_type": "execute_result"
    }
   ],
   "source": [
    "new_second_arr = np.append(second_arr, 5) # added 5 at the end\n",
    "new_second_arr"
   ]
  },
  {
   "cell_type": "code",
   "execution_count": 8,
   "id": "69ad62f9",
   "metadata": {},
   "outputs": [
    {
     "data": {
      "text/plain": [
       "array([1, 2, 3, 4, 5])"
      ]
     },
     "execution_count": 8,
     "metadata": {},
     "output_type": "execute_result"
    }
   ],
   "source": [
    "third_arr = np.array([1,2,3,4,5])\n",
    "third_arr"
   ]
  },
  {
   "cell_type": "code",
   "execution_count": 9,
   "id": "0d2eff48",
   "metadata": {},
   "outputs": [
    {
     "data": {
      "text/plain": [
       "array([1, 2, 3, 4])"
      ]
     },
     "execution_count": 9,
     "metadata": {},
     "output_type": "execute_result"
    }
   ],
   "source": [
    "del_arr = np.delete(third_arr, 4) #deleted element at index 4\n",
    "del_arr"
   ]
  },
  {
   "cell_type": "code",
   "execution_count": 10,
   "id": "0c6e7566",
   "metadata": {},
   "outputs": [
    {
     "data": {
      "text/plain": [
       "array([18, 16,  7, 15,  0,  5,  7,  9, 14,  8,  9, 14, 15, 14,  0, 19,  2,\n",
       "       15, 17,  7])"
      ]
     },
     "execution_count": 10,
     "metadata": {},
     "output_type": "execute_result"
    }
   ],
   "source": [
    "integers_arr = np.random.randint(0,20,20)\n",
    "integers_arr"
   ]
  },
  {
   "cell_type": "code",
   "execution_count": 11,
   "id": "948f7660",
   "metadata": {},
   "outputs": [
    {
     "name": "stdout",
     "output_type": "stream",
     "text": [
      "[ 0  0  2  5  7  7  7  8  9  9 14 14 14 15 15 15 16 17 18 19]\n"
     ]
    }
   ],
   "source": [
    "print(np.sort(integers_arr)) # sorted the array"
   ]
  },
  {
   "cell_type": "code",
   "execution_count": 13,
   "id": "5730472a",
   "metadata": {},
   "outputs": [
    {
     "data": {
      "text/plain": [
       "array([[3, 2, 5, 7, 4],\n",
       "       [5, 0, 8, 3, 1]])"
      ]
     },
     "execution_count": 13,
     "metadata": {},
     "output_type": "execute_result"
    }
   ],
   "source": [
    "integers_2dim_arr = np.array([[3,2,5,7,4],[5,0,8,3,1]]) #sorted the 2d array\n",
    "integers_2dim_arr"
   ]
  },
  {
   "cell_type": "code",
   "execution_count": 14,
   "id": "35ee57f6",
   "metadata": {},
   "outputs": [
    {
     "name": "stdout",
     "output_type": "stream",
     "text": [
      "[[2 3 4 5 7]\n",
      " [0 1 3 5 8]]\n"
     ]
    }
   ],
   "source": [
    "print(np.sort(integers_2dim_arr))"
   ]
  },
  {
   "cell_type": "code",
   "execution_count": 15,
   "id": "2ded6f62",
   "metadata": {},
   "outputs": [
    {
     "data": {
      "text/plain": [
       "array(['violet', 'orange', 'yellow', 'white', 'black'], dtype='<U6')"
      ]
     },
     "execution_count": 15,
     "metadata": {},
     "output_type": "execute_result"
    }
   ],
   "source": [
    "colors = np.array(['violet', 'orange', 'yellow', 'white', 'black'])\n",
    "colors"
   ]
  },
  {
   "cell_type": "code",
   "execution_count": 16,
   "id": "aae7341c",
   "metadata": {},
   "outputs": [
    {
     "name": "stdout",
     "output_type": "stream",
     "text": [
      "['black' 'orange' 'violet' 'white' 'yellow']\n"
     ]
    }
   ],
   "source": [
    "print(np.sort(colors)) #sorted an array of strings"
   ]
  },
  {
   "cell_type": "markdown",
   "id": "761729e3",
   "metadata": {},
   "source": [
    "copies and views"
   ]
  },
  {
   "cell_type": "code",
   "execution_count": 18,
   "id": "a4208789",
   "metadata": {},
   "outputs": [
    {
     "data": {
      "text/plain": [
       "array([1111, 2222, 3333, 4444, 5555, 6666, 7777, 8888, 9999])"
      ]
     },
     "execution_count": 18,
     "metadata": {},
     "output_type": "execute_result"
    }
   ],
   "source": [
    "students_ids_number = np.array([1111,2222,3333,4444,5555,6666,7777,8888,9999])\n",
    "students_ids_number"
   ]
  },
  {
   "cell_type": "code",
   "execution_count": 20,
   "id": "03c4e132",
   "metadata": {},
   "outputs": [
    {
     "name": "stdout",
     "output_type": "stream",
     "text": [
      "id of student_ids_number 140354579850128\n",
      "id of student_ids_number_reg 140354579850128\n"
     ]
    }
   ],
   "source": [
    "students_ids_number_reg = students_ids_number #assignment operator generates another reference\n",
    "print(\"id of student_ids_number\",id(students_ids_number))\n",
    "print(\"id of student_ids_number_reg\",id(students_ids_number_reg))"
   ]
  },
  {
   "cell_type": "code",
   "execution_count": 21,
   "id": "9cef977b",
   "metadata": {},
   "outputs": [
    {
     "name": "stdout",
     "output_type": "stream",
     "text": [
      "[1111 6969 3333 4444 5555 6666 7777 8888 9999]\n",
      "[1111 6969 3333 4444 5555 6666 7777 8888 9999]\n"
     ]
    }
   ],
   "source": [
    "students_ids_number_reg[1] = 6969\n",
    "print(students_ids_number_reg)\n",
    "print(students_ids_number)"
   ]
  },
  {
   "cell_type": "code",
   "execution_count": 22,
   "id": "e6cc386d",
   "metadata": {},
   "outputs": [
    {
     "name": "stdout",
     "output_type": "stream",
     "text": [
      "[1111 6969 3333 4444 5555 6666 7777 8888 9999]\n"
     ]
    }
   ],
   "source": [
    "students_ids_number_cp = students_ids_number.copy() # array is copied to another array\n",
    "print(students_ids_number_cp)\n"
   ]
  },
  {
   "cell_type": "code",
   "execution_count": 23,
   "id": "5c187ebb",
   "metadata": {},
   "outputs": [
    {
     "name": "stdout",
     "output_type": "stream",
     "text": [
      "[ True  True  True  True  True  True  True  True  True]\n"
     ]
    }
   ],
   "source": [
    "print(students_ids_number_cp == students_ids_number)"
   ]
  },
  {
   "cell_type": "code",
   "execution_count": 25,
   "id": "7bc107c9",
   "metadata": {},
   "outputs": [
    {
     "name": "stdout",
     "output_type": "stream",
     "text": [
      "id of student_ids_number_cp 140354574228048\n",
      "id of student_ids_number 140354579850128\n"
     ]
    }
   ],
   "source": [
    "print(\"id of student_ids_number_cp\",id(students_ids_number_cp)) # different id numbers \n",
    "print(\"id of student_ids_number\",id(students_ids_number))"
   ]
  },
  {
   "cell_type": "code",
   "execution_count": 26,
   "id": "ed2067ff",
   "metadata": {},
   "outputs": [
    {
     "name": "stdout",
     "output_type": "stream",
     "text": [
      "original:  [1000 6969 3333 4444 5555 6666 7777 8888 9999]\n",
      "copy:  [1111 6969 3333 4444 5555 6666 7777 8888 9999]\n"
     ]
    }
   ],
   "source": [
    "students_ids_number[0] = 1000 # copy, copies the array into another\n",
    "print('original: ', students_ids_number)\n",
    "print('copy: ',students_ids_number_cp)"
   ]
  },
  {
   "cell_type": "code",
   "execution_count": 27,
   "id": "122cbb07",
   "metadata": {},
   "outputs": [],
   "source": [
    "students_ids_number_v = students_ids_number.view()"
   ]
  },
  {
   "cell_type": "code",
   "execution_count": 28,
   "id": "b01c80f9",
   "metadata": {},
   "outputs": [
    {
     "name": "stdout",
     "output_type": "stream",
     "text": [
      "original:  [2000 6969 3333 4444 5555 6666 7777 8888 9999]\n",
      "copy:  [2000 6969 3333 4444 5555 6666 7777 8888 9999]\n"
     ]
    }
   ],
   "source": [
    "students_ids_number_v[0] = 2000 # view generates a reference\n",
    "print('original: ', students_ids_number)\n",
    "print('copy: ',students_ids_number_v)"
   ]
  },
  {
   "cell_type": "code",
   "execution_count": 29,
   "id": "9d2af1ac",
   "metadata": {},
   "outputs": [
    {
     "name": "stdout",
     "output_type": "stream",
     "text": [
      "None\n"
     ]
    }
   ],
   "source": [
    "print(students_ids_number_cp.base) #None is generated if the data is copied"
   ]
  },
  {
   "cell_type": "code",
   "execution_count": 30,
   "id": "90542e44",
   "metadata": {},
   "outputs": [
    {
     "name": "stdout",
     "output_type": "stream",
     "text": [
      "[2000 6969 3333 4444 5555 6666 7777 8888 9999]\n"
     ]
    }
   ],
   "source": [
    "print(students_ids_number_v.base) # another array is generated since it is already a reference to another object or array."
   ]
  },
  {
   "cell_type": "markdown",
   "id": "b63cb3a9",
   "metadata": {},
   "source": [
    "Reshaping arrays"
   ]
  },
  {
   "cell_type": "code",
   "execution_count": 31,
   "id": "668b0fb2",
   "metadata": {},
   "outputs": [
    {
     "data": {
      "text/plain": [
       "array([ 1,  2,  3,  4,  5,  6,  7,  8,  9, 10, 11, 12])"
      ]
     },
     "execution_count": 31,
     "metadata": {},
     "output_type": "execute_result"
    }
   ],
   "source": [
    "first_arr = np.arange(1, 13)\n",
    "first_arr"
   ]
  },
  {
   "cell_type": "code",
   "execution_count": 32,
   "id": "98ef281d",
   "metadata": {},
   "outputs": [
    {
     "data": {
      "text/plain": [
       "array([[ 1,  2,  3,  4],\n",
       "       [ 5,  6,  7,  8],\n",
       "       [ 9, 10, 11, 12]])"
      ]
     },
     "execution_count": 32,
     "metadata": {},
     "output_type": "execute_result"
    }
   ],
   "source": [
    "second_arr = np.reshape(first_arr,(3,4))\n",
    "second_arr"
   ]
  },
  {
   "cell_type": "code",
   "execution_count": 34,
   "id": "99e283a7",
   "metadata": {},
   "outputs": [
    {
     "data": {
      "text/plain": [
       "array([[ 1,  2],\n",
       "       [ 3,  4],\n",
       "       [ 5,  6],\n",
       "       [ 7,  8],\n",
       "       [ 9, 10],\n",
       "       [11, 12]])"
      ]
     },
     "execution_count": 34,
     "metadata": {},
     "output_type": "execute_result"
    }
   ],
   "source": [
    " third_arr = np.reshape(first_arr,(6,2))\n",
    "third_arr"
   ]
  },
  {
   "cell_type": "code",
   "execution_count": 35,
   "id": "aa37387c",
   "metadata": {},
   "outputs": [
    {
     "ename": "ValueError",
     "evalue": "cannot reshape array of size 12 into shape (4,4)",
     "output_type": "error",
     "traceback": [
      "\u001b[0;31m---------------------------------------------------------------------------\u001b[0m",
      "\u001b[0;31mValueError\u001b[0m                                Traceback (most recent call last)",
      "Input \u001b[0;32mIn [35]\u001b[0m, in \u001b[0;36m<cell line: 1>\u001b[0;34m()\u001b[0m\n\u001b[0;32m----> 1\u001b[0m fourth_arr \u001b[38;5;241m=\u001b[39m \u001b[43mnp\u001b[49m\u001b[38;5;241;43m.\u001b[39;49m\u001b[43mreshape\u001b[49m\u001b[43m(\u001b[49m\u001b[43mfirst_arr\u001b[49m\u001b[43m,\u001b[49m\u001b[43m(\u001b[49m\u001b[38;5;241;43m4\u001b[39;49m\u001b[43m,\u001b[49m\u001b[38;5;241;43m4\u001b[39;49m\u001b[43m)\u001b[49m\u001b[43m)\u001b[49m\n\u001b[1;32m      2\u001b[0m fourth_arr\n",
      "File \u001b[0;32m<__array_function__ internals>:5\u001b[0m, in \u001b[0;36mreshape\u001b[0;34m(*args, **kwargs)\u001b[0m\n",
      "File \u001b[0;32m~/opt/anaconda3/lib/python3.9/site-packages/numpy/core/fromnumeric.py:298\u001b[0m, in \u001b[0;36mreshape\u001b[0;34m(a, newshape, order)\u001b[0m\n\u001b[1;32m    198\u001b[0m \u001b[38;5;129m@array_function_dispatch\u001b[39m(_reshape_dispatcher)\n\u001b[1;32m    199\u001b[0m \u001b[38;5;28;01mdef\u001b[39;00m \u001b[38;5;21mreshape\u001b[39m(a, newshape, order\u001b[38;5;241m=\u001b[39m\u001b[38;5;124m'\u001b[39m\u001b[38;5;124mC\u001b[39m\u001b[38;5;124m'\u001b[39m):\n\u001b[1;32m    200\u001b[0m     \u001b[38;5;124;03m\"\"\"\u001b[39;00m\n\u001b[1;32m    201\u001b[0m \u001b[38;5;124;03m    Gives a new shape to an array without changing its data.\u001b[39;00m\n\u001b[1;32m    202\u001b[0m \n\u001b[0;32m   (...)\u001b[0m\n\u001b[1;32m    296\u001b[0m \u001b[38;5;124;03m           [5, 6]])\u001b[39;00m\n\u001b[1;32m    297\u001b[0m \u001b[38;5;124;03m    \"\"\"\u001b[39;00m\n\u001b[0;32m--> 298\u001b[0m     \u001b[38;5;28;01mreturn\u001b[39;00m \u001b[43m_wrapfunc\u001b[49m\u001b[43m(\u001b[49m\u001b[43ma\u001b[49m\u001b[43m,\u001b[49m\u001b[43m \u001b[49m\u001b[38;5;124;43m'\u001b[39;49m\u001b[38;5;124;43mreshape\u001b[39;49m\u001b[38;5;124;43m'\u001b[39;49m\u001b[43m,\u001b[49m\u001b[43m \u001b[49m\u001b[43mnewshape\u001b[49m\u001b[43m,\u001b[49m\u001b[43m \u001b[49m\u001b[43morder\u001b[49m\u001b[38;5;241;43m=\u001b[39;49m\u001b[43morder\u001b[49m\u001b[43m)\u001b[49m\n",
      "File \u001b[0;32m~/opt/anaconda3/lib/python3.9/site-packages/numpy/core/fromnumeric.py:57\u001b[0m, in \u001b[0;36m_wrapfunc\u001b[0;34m(obj, method, *args, **kwds)\u001b[0m\n\u001b[1;32m     54\u001b[0m     \u001b[38;5;28;01mreturn\u001b[39;00m _wrapit(obj, method, \u001b[38;5;241m*\u001b[39margs, \u001b[38;5;241m*\u001b[39m\u001b[38;5;241m*\u001b[39mkwds)\n\u001b[1;32m     56\u001b[0m \u001b[38;5;28;01mtry\u001b[39;00m:\n\u001b[0;32m---> 57\u001b[0m     \u001b[38;5;28;01mreturn\u001b[39;00m \u001b[43mbound\u001b[49m\u001b[43m(\u001b[49m\u001b[38;5;241;43m*\u001b[39;49m\u001b[43margs\u001b[49m\u001b[43m,\u001b[49m\u001b[43m \u001b[49m\u001b[38;5;241;43m*\u001b[39;49m\u001b[38;5;241;43m*\u001b[39;49m\u001b[43mkwds\u001b[49m\u001b[43m)\u001b[49m\n\u001b[1;32m     58\u001b[0m \u001b[38;5;28;01mexcept\u001b[39;00m \u001b[38;5;167;01mTypeError\u001b[39;00m:\n\u001b[1;32m     59\u001b[0m     \u001b[38;5;66;03m# A TypeError occurs if the object does have such a method in its\u001b[39;00m\n\u001b[1;32m     60\u001b[0m     \u001b[38;5;66;03m# class, but its signature is not identical to that of NumPy's. This\u001b[39;00m\n\u001b[0;32m   (...)\u001b[0m\n\u001b[1;32m     64\u001b[0m     \u001b[38;5;66;03m# Call _wrapit from within the except clause to ensure a potential\u001b[39;00m\n\u001b[1;32m     65\u001b[0m     \u001b[38;5;66;03m# exception has a traceback chain.\u001b[39;00m\n\u001b[1;32m     66\u001b[0m     \u001b[38;5;28;01mreturn\u001b[39;00m _wrapit(obj, method, \u001b[38;5;241m*\u001b[39margs, \u001b[38;5;241m*\u001b[39m\u001b[38;5;241m*\u001b[39mkwds)\n",
      "\u001b[0;31mValueError\u001b[0m: cannot reshape array of size 12 into shape (4,4)"
     ]
    }
   ],
   "source": [
    "fourth_arr = np.reshape(first_arr,(4,4))\n",
    "fourth_arr"
   ]
  },
  {
   "cell_type": "code",
   "execution_count": 36,
   "id": "d61430ac",
   "metadata": {},
   "outputs": [
    {
     "data": {
      "text/plain": [
       "array([[[ 1,  2],\n",
       "        [ 3,  4]],\n",
       "\n",
       "       [[ 5,  6],\n",
       "        [ 7,  8]],\n",
       "\n",
       "       [[ 9, 10],\n",
       "        [11, 12]]])"
      ]
     },
     "execution_count": 36,
     "metadata": {},
     "output_type": "execute_result"
    }
   ],
   "source": [
    "fifth_arr = np.reshape(first_arr,(3,2,2)) #converted 1d array to 3d array\n",
    "fifth_arr"
   ]
  },
  {
   "cell_type": "code",
   "execution_count": 37,
   "id": "5b1594dc",
   "metadata": {},
   "outputs": [
    {
     "data": {
      "text/plain": [
       "array([[1, 2],\n",
       "       [3, 4],\n",
       "       [5, 6]])"
      ]
     },
     "execution_count": 37,
     "metadata": {},
     "output_type": "execute_result"
    }
   ],
   "source": [
    "sixth_arr = np.array([[1,2],[3,4],[5,6]])\n",
    "sixth_arr"
   ]
  },
  {
   "cell_type": "code",
   "execution_count": 38,
   "id": "1f70f4da",
   "metadata": {},
   "outputs": [
    {
     "data": {
      "text/plain": [
       "array([1, 2, 3, 4, 5, 6])"
      ]
     },
     "execution_count": 38,
     "metadata": {},
     "output_type": "execute_result"
    }
   ],
   "source": [
    "seventh_arr_flat = np.reshape(sixth_arr, -1)\n",
    "seventh_arr_flat"
   ]
  },
  {
   "cell_type": "code",
   "execution_count": 39,
   "id": "8381a2d0",
   "metadata": {},
   "outputs": [
    {
     "name": "stdout",
     "output_type": "stream",
     "text": [
      "eighth_arr_flat:  [1 2 3 4 5 6]\n",
      "ninth_arr_rav:  [1 2 3 4 5 6]\n"
     ]
    }
   ],
   "source": [
    "eighth_arr_flat = sixth_arr.flatten()\n",
    "print('eighth_arr_flat: ',eighth_arr_flat)\n",
    "ninth_arr_rav = sixth_arr.ravel()\n",
    "print('ninth_arr_rav: ', ninth_arr_rav)"
   ]
  },
  {
   "cell_type": "code",
   "execution_count": 40,
   "id": "8526433f",
   "metadata": {},
   "outputs": [],
   "source": [
    "eighth_arr_flat[0] = 100"
   ]
  },
  {
   "cell_type": "code",
   "execution_count": 41,
   "id": "654f4b13",
   "metadata": {},
   "outputs": [],
   "source": [
    "ninth_arr_rav[0] = 200"
   ]
  },
  {
   "cell_type": "code",
   "execution_count": 42,
   "id": "00c36ae8",
   "metadata": {},
   "outputs": [
    {
     "name": "stdout",
     "output_type": "stream",
     "text": [
      "eighth_arr_flat:  [100   2   3   4   5   6]\n",
      "ninth_arr_rav:  [200   2   3   4   5   6]\n",
      "sixth_arr:  [[200   2]\n",
      " [  3   4]\n",
      " [  5   6]]\n"
     ]
    }
   ],
   "source": [
    "print('eighth_arr_flat: ',eighth_arr_flat)\n",
    "print('ninth_arr_rav: ', ninth_arr_rav)\n",
    "print('sixth_arr: ', sixth_arr)"
   ]
  },
  {
   "cell_type": "code",
   "execution_count": null,
   "id": "aaf53fe3",
   "metadata": {},
   "outputs": [],
   "source": []
  }
 ],
 "metadata": {
  "kernelspec": {
   "display_name": "Python 3 (ipykernel)",
   "language": "python",
   "name": "python3"
  },
  "language_info": {
   "codemirror_mode": {
    "name": "ipython",
    "version": 3
   },
   "file_extension": ".py",
   "mimetype": "text/x-python",
   "name": "python",
   "nbconvert_exporter": "python",
   "pygments_lexer": "ipython3",
   "version": "3.9.12"
  }
 },
 "nbformat": 4,
 "nbformat_minor": 5
}
